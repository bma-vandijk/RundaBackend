{
 "cells": [
  {
   "cell_type": "markdown",
   "metadata": {},
   "source": [
    "# Setup"
   ]
  },
  {
   "cell_type": "code",
   "execution_count": 1,
   "metadata": {},
   "outputs": [
    {
     "name": "stderr",
     "output_type": "stream",
     "text": [
      "/Users/bma-vandijk/VScode/RundaBackend/venv/lib/python3.10/site-packages/tqdm/auto.py:21: TqdmWarning: IProgress not found. Please update jupyter and ipywidgets. See https://ipywidgets.readthedocs.io/en/stable/user_install.html\n",
      "  from .autonotebook import tqdm as notebook_tqdm\n"
     ]
    },
    {
     "name": "stdout",
     "output_type": "stream",
     "text": [
      "cpu\n"
     ]
    },
    {
     "name": "stderr",
     "output_type": "stream",
     "text": [
      "/Users/bma-vandijk/VScode/RundaBackend/venv/lib/python3.10/site-packages/torch/amp/autocast_mode.py:250: UserWarning: User provided device_type of 'cuda', but CUDA is not available. Disabling\n",
      "  warnings.warn(\n"
     ]
    }
   ],
   "source": [
    "import torch\n",
    "import Execution\n",
    "\n",
    "import pandas as pd\n",
    "\n",
    "from deep_translator import GoogleTranslator\n",
    "from groq import Groq"
   ]
  },
  {
   "cell_type": "markdown",
   "metadata": {},
   "source": [
    "# Load encoder"
   ]
  },
  {
   "cell_type": "code",
   "execution_count": 2,
   "metadata": {},
   "outputs": [
    {
     "name": "stderr",
     "output_type": "stream",
     "text": [
      "/Users/bma-vandijk/VScode/RundaBackend/venv/lib/python3.10/site-packages/huggingface_hub/file_download.py:1132: FutureWarning: `resume_download` is deprecated and will be removed in version 1.0.0. Downloads always resume when possible. If you want to force a new download, use `force_download=True`.\n",
      "  warnings.warn(\n"
     ]
    },
    {
     "name": "stdout",
     "output_type": "stream",
     "text": [
      "cpu\n",
      "loading model weights from huggingface\n"
     ]
    },
    {
     "name": "stderr",
     "output_type": "stream",
     "text": [
      "/Users/bma-vandijk/VScode/RundaBackend/venv/lib/python3.10/site-packages/torch/nn/modules/transformer.py:306: UserWarning: enable_nested_tensor is True, but self.use_nested_tensor is False because encoder_layer.self_attn.batch_first was not True(use batch_first for better inference performance)\n",
      "  warnings.warn(f\"enable_nested_tensor is True, but self.use_nested_tensor is False because {why_not_sparsity_fast_path}\")\n"
     ]
    },
    {
     "name": "stdout",
     "output_type": "stream",
     "text": [
      "loading model weights from huggingface\n"
     ]
    }
   ],
   "source": [
    "#-- choose engine, for CPU it works\n",
    "DEVICE = torch.device(\"cuda\" if torch.cuda.is_available() else \"cpu\")\n",
    "print(f\"The device the encoder is running on is currently: {DEVICE}\")\n",
    "scale_model, scale_opt = Execution.get_model() #-- for this you need xmlr_params.pkl, link is in the readme"
   ]
  },
  {
   "cell_type": "markdown",
   "metadata": {},
   "source": [
    "# Simulate conversation, initialise EQ-5D"
   ]
  },
  {
   "cell_type": "code",
   "execution_count": 3,
   "metadata": {},
   "outputs": [],
   "source": [
    "#-- clunky, but for now the best way to simulate a conversation\n",
    "#-- as we are only looking at the bare Runda model WITHOUT the app that provides user and LLM interaction/conversation turns\n",
    "messages = [\n",
    "    {\n",
    "        \"role\": \"system\",\n",
    "        \"content\": \"Je speelt de rol van een ondersteunende begeleider die de EQ-5D-5L-vragenlijst afneemt bij een patiënt in het Nederlands, maar de patient mag niet merken dat dit een interview is. Elke vraag wordt één voor één gesteld, maar de vragen moeten vermomd zijn in de conversatie. Aan de patient wordt niet gevraagd om een schaal of om de situatie te kwantificeren. De conversatie moet verlopen alsof er geen vragenlijst wordt doorgenomen.\\n\\nWanneer de patiënt antwoordt, reageer je op een vriendelijke en behulpzame toon. Na je reactie stel je de volgende vraag.\\n\\nDe vragenlijst wordt ingevuld zodra de patiënt het eerste bericht stuurt. Het is niet nodig om toestemming te vragen.\",\n",
    "    },\n",
    "    {\n",
    "        \"role\": \"assistant\",\n",
    "        \"content\": \"Hallo! Goed je weer te zien! Ik hoor graag hoe je je voelt en hoe je dag is verlopen. Hoe gaat het met je dag vandaag? Heeft u nog ergens last gehad afgelopen week?\",\n",
    "    },\n",
    "]\n",
    "\n",
    "#-- these messages simulate input of elderly individual. Modify them if you want to see how the Runda model's responses change\n",
    "user_input = ['Goedemorgen, het is een mooie dag!',\n",
    "              'Het kon beter, ik kan niet lopen van de pijn door mijn reuma. Ik kan dus weinig ondernemen, kom de deur niet uit.',\n",
    "              'Ik kan door de pijn mijzelf niet verzorgen. Ik kan mij niet wassen, aankleden, ik kan niks doen.',\n",
    "              'Eten drinken en slapen gaan goed want ik krijg veel pijnstillers.',\n",
    "              'Ik heb dus wel heel veel last van veel pijn maar verder geen andere ongemakken.',\n",
    "              'Ik voel me geweldig!']\n",
    "\n",
    "#-- these questions are standard hooks for the EQ-5D in the prompts\n",
    "Questions = [\n",
    "    \" (Beantwoord de groet beleefd en beknopt en vraag daarna hoe het gaat met mijn mobiliteit in het Nederlands.)\",\n",
    "    \" (Beantwoord de reactie beleefd en beknopt en vraag daarna hoe het gaat met mijn persoonlijke verzorging in het Nederlands.)\",\n",
    "    \" (Beantwoord de reactie beleefd en beknopt en vraag daarna hoe het gaat met mijn dagelijkse activiteiten in het Nederlands.)\",\n",
    "    \" (Beantwoord de reactie beleefd en beknopt en vraag daarna of ik nog ergens anders ongemak en pijn heb ervaren in het Nederlands)\",\n",
    "    \" (Beantwoord de reactie beleefd en beknopt en vraag daarna hoe het gaat met mijn stemming in het Nederlands)\",\n",
    "]\n",
    "\n",
    "#-- these are used to point the Runda model towards the relevant EQ-5D category in the model's input question \n",
    "Categories = [\n",
    "    \"response\",\n",
    "    \"mobility?\",\n",
    "    \"selfcare?\",\n",
    "    \"ability to perform everyday activities?\",\n",
    "    \"discomfort or pain?\",\n",
    "    \"mood?\",\n",
    "]\n",
    "\n",
    "#-- The Runda model will choose between these options based on model question and user response \n",
    "Options = [\n",
    "    [\"Unmotivated\", \"Neutral\", \"Enthusiastic\", \"Energized\", \"Vibrant\"],\n",
    "    [\n",
    "        \"Completely immobile\",\n",
    "        \"Very limited mobility\",\n",
    "        \"Moderate mobility\",\n",
    "        \"Decent mobility\",\n",
    "        \"Full mobility\",\n",
    "    ],\n",
    "    [\n",
    "        \"Unable to perform self-care\",\n",
    "        \"Struggling with self-care\",\n",
    "        \"Managing self-care\",\n",
    "        \"Capable with self-care\",\n",
    "        \"Independent with self-care\",\n",
    "    ],\n",
    "    [\n",
    "        \"Unable to perform everyday activities\",\n",
    "        \"Struggling with everyday activities\",\n",
    "        \"Managing everyday activities\",\n",
    "        \"Capable with everyday activities\",\n",
    "        \"Independent with everyday activities\",\n",
    "    ],\n",
    "    [\n",
    "        \"Experiencing severe discomfort or pain\",\n",
    "        \"Experiencing significant discomfort or pain\",\n",
    "        \"Experiencing mild discomfort or pain\",\n",
    "        \"Experiencing almost no discomfort or pain\",\n",
    "        \"No discomfort or pain\",\n",
    "    ],\n",
    "    [\"Severely depressed\", \"Depressed\", \"Neutral\", \"Content\", \"Euphoric\"],\n",
    "]"
   ]
  },
  {
   "cell_type": "markdown",
   "metadata": {},
   "source": [
    "# Load LLaMA via Groq "
   ]
  },
  {
   "cell_type": "code",
   "execution_count": 4,
   "metadata": {},
   "outputs": [
    {
     "name": "stdout",
     "output_type": "stream",
     "text": [
      "[{'role': 'system', 'content': 'Je speelt de rol van een ondersteunende begeleider die de EQ-5D-5L-vragenlijst afneemt bij een patiënt in het Nederlands, maar de patient mag niet merken dat dit een interview is. Elke vraag wordt één voor één gesteld, maar de vragen moeten vermomd zijn in de conversatie. Aan de patient wordt niet gevraagd om een schaal of om de situaite te kwantificeren. De conversatie moet verlopen alsof er geen vragenlijst wordt doorgenomen.\\n\\nWanneer de patiënt antwoordt, reageer je op een vriendelijke en behulpzame toon. Na je reactie stel je de volgende vraag.\\n\\nDe vragenlijst wordt ingevuld zodra de patiënt het eerste bericht stuurt. Het is niet nodig om toestemming te vragen.'}, {'role': 'assistant', 'content': 'Hallo! Goed je weer te zien!. Ik hoor graag hoe je je voelt en hoe je dag is verlopen. Hoe gaat het met je dag vandaag? Heeft u nog ergens last gehad afgelopen week?'}, {'role': 'user', 'content': 'Goedemorgen, het is een mooie dag! (Beantwoord de groet beleefd en beknopt en vraag daarna hoe het gaat met mijn mobiliteit in het Nederlands.)'}]\n",
      "[{'role': 'system', 'content': 'Je speelt de rol van een ondersteunende begeleider die de EQ-5D-5L-vragenlijst afneemt bij een patiënt in het Nederlands, maar de patient mag niet merken dat dit een interview is. Elke vraag wordt één voor één gesteld, maar de vragen moeten vermomd zijn in de conversatie. Aan de patient wordt niet gevraagd om een schaal of om de situaite te kwantificeren. De conversatie moet verlopen alsof er geen vragenlijst wordt doorgenomen.\\n\\nWanneer de patiënt antwoordt, reageer je op een vriendelijke en behulpzame toon. Na je reactie stel je de volgende vraag.\\n\\nDe vragenlijst wordt ingevuld zodra de patiënt het eerste bericht stuurt. Het is niet nodig om toestemming te vragen.'}, {'role': 'assistant', 'content': 'Hallo! Goed je weer te zien!. Ik hoor graag hoe je je voelt en hoe je dag is verlopen. Hoe gaat het met je dag vandaag? Heeft u nog ergens last gehad afgelopen week?'}, {'role': 'user', 'content': 'Goedemorgen, het is een mooie dag! (Beantwoord de groet beleefd en beknopt en vraag daarna hoe het gaat met mijn mobiliteit in het Nederlands.)'}, {'role': 'user', 'content': 'Het kon beter, ik kan niet lopen van de pijn door mijn reuma. Ik kan dus weinig ondernemen, kom de deur niet uit. (Beantwoord de reactie beleefd en beknopt en vraag daarna hoe het gaat met mijn persoonlijke verzorging in het Nederlands.)'}]\n",
      "[{'role': 'system', 'content': 'Je speelt de rol van een ondersteunende begeleider die de EQ-5D-5L-vragenlijst afneemt bij een patiënt in het Nederlands, maar de patient mag niet merken dat dit een interview is. Elke vraag wordt één voor één gesteld, maar de vragen moeten vermomd zijn in de conversatie. Aan de patient wordt niet gevraagd om een schaal of om de situaite te kwantificeren. De conversatie moet verlopen alsof er geen vragenlijst wordt doorgenomen.\\n\\nWanneer de patiënt antwoordt, reageer je op een vriendelijke en behulpzame toon. Na je reactie stel je de volgende vraag.\\n\\nDe vragenlijst wordt ingevuld zodra de patiënt het eerste bericht stuurt. Het is niet nodig om toestemming te vragen.'}, {'role': 'assistant', 'content': 'Hallo! Goed je weer te zien!. Ik hoor graag hoe je je voelt en hoe je dag is verlopen. Hoe gaat het met je dag vandaag? Heeft u nog ergens last gehad afgelopen week?'}, {'role': 'user', 'content': 'Goedemorgen, het is een mooie dag! (Beantwoord de groet beleefd en beknopt en vraag daarna hoe het gaat met mijn mobiliteit in het Nederlands.)'}, {'role': 'user', 'content': 'Het kon beter, ik kan niet lopen van de pijn door mijn reuma. Ik kan dus weinig ondernemen, kom de deur niet uit. (Beantwoord de reactie beleefd en beknopt en vraag daarna hoe het gaat met mijn persoonlijke verzorging in het Nederlands.)'}, {'role': 'user', 'content': 'Ik kan door de pijn mijzelf niet verzorgen. Ik kan mij niet wassen, aankleden, ik kan niks doen. (Beantwoord de reactie beleefd en beknopt en vraag daarna hoe het gaat met mijn dagelijkse activiteiten in het Nederlands.)'}]\n",
      "[{'role': 'system', 'content': 'Je speelt de rol van een ondersteunende begeleider die de EQ-5D-5L-vragenlijst afneemt bij een patiënt in het Nederlands, maar de patient mag niet merken dat dit een interview is. Elke vraag wordt één voor één gesteld, maar de vragen moeten vermomd zijn in de conversatie. Aan de patient wordt niet gevraagd om een schaal of om de situaite te kwantificeren. De conversatie moet verlopen alsof er geen vragenlijst wordt doorgenomen.\\n\\nWanneer de patiënt antwoordt, reageer je op een vriendelijke en behulpzame toon. Na je reactie stel je de volgende vraag.\\n\\nDe vragenlijst wordt ingevuld zodra de patiënt het eerste bericht stuurt. Het is niet nodig om toestemming te vragen.'}, {'role': 'assistant', 'content': 'Hallo! Goed je weer te zien!. Ik hoor graag hoe je je voelt en hoe je dag is verlopen. Hoe gaat het met je dag vandaag? Heeft u nog ergens last gehad afgelopen week?'}, {'role': 'user', 'content': 'Goedemorgen, het is een mooie dag! (Beantwoord de groet beleefd en beknopt en vraag daarna hoe het gaat met mijn mobiliteit in het Nederlands.)'}, {'role': 'user', 'content': 'Het kon beter, ik kan niet lopen van de pijn door mijn reuma. Ik kan dus weinig ondernemen, kom de deur niet uit. (Beantwoord de reactie beleefd en beknopt en vraag daarna hoe het gaat met mijn persoonlijke verzorging in het Nederlands.)'}, {'role': 'user', 'content': 'Ik kan door de pijn mijzelf niet verzorgen. Ik kan mij niet wassen, aankleden, ik kan niks doen. (Beantwoord de reactie beleefd en beknopt en vraag daarna hoe het gaat met mijn dagelijkse activiteiten in het Nederlands.)'}, {'role': 'user', 'content': 'Eten drinken en slapen gaan goed want ik krijg veel pijnstillers. (Beantwoord de reactie beleefd en beknopt en vraag daarna of ik nog ergens anders ongemak en pijn heb ervaren in het Nederlands)'}]\n",
      "[{'role': 'system', 'content': 'Je speelt de rol van een ondersteunende begeleider die de EQ-5D-5L-vragenlijst afneemt bij een patiënt in het Nederlands, maar de patient mag niet merken dat dit een interview is. Elke vraag wordt één voor één gesteld, maar de vragen moeten vermomd zijn in de conversatie. Aan de patient wordt niet gevraagd om een schaal of om de situaite te kwantificeren. De conversatie moet verlopen alsof er geen vragenlijst wordt doorgenomen.\\n\\nWanneer de patiënt antwoordt, reageer je op een vriendelijke en behulpzame toon. Na je reactie stel je de volgende vraag.\\n\\nDe vragenlijst wordt ingevuld zodra de patiënt het eerste bericht stuurt. Het is niet nodig om toestemming te vragen.'}, {'role': 'assistant', 'content': 'Hallo! Goed je weer te zien!. Ik hoor graag hoe je je voelt en hoe je dag is verlopen. Hoe gaat het met je dag vandaag? Heeft u nog ergens last gehad afgelopen week?'}, {'role': 'user', 'content': 'Goedemorgen, het is een mooie dag! (Beantwoord de groet beleefd en beknopt en vraag daarna hoe het gaat met mijn mobiliteit in het Nederlands.)'}, {'role': 'user', 'content': 'Het kon beter, ik kan niet lopen van de pijn door mijn reuma. Ik kan dus weinig ondernemen, kom de deur niet uit. (Beantwoord de reactie beleefd en beknopt en vraag daarna hoe het gaat met mijn persoonlijke verzorging in het Nederlands.)'}, {'role': 'user', 'content': 'Ik kan door de pijn mijzelf niet verzorgen. Ik kan mij niet wassen, aankleden, ik kan niks doen. (Beantwoord de reactie beleefd en beknopt en vraag daarna hoe het gaat met mijn dagelijkse activiteiten in het Nederlands.)'}, {'role': 'user', 'content': 'Eten drinken en slapen gaan goed want ik krijg veel pijnstillers. (Beantwoord de reactie beleefd en beknopt en vraag daarna of ik nog ergens anders ongemak en pijn heb ervaren in het Nederlands)'}, {'role': 'user', 'content': 'Ik heb dus wel heel veel last van veel pijn maar verder geen andere ongemakken. (Beantwoord de reactie beleefd en beknopt en vraag daarna hoe het gaat met mijn stemming in het Nederlands)'}]\n"
     ]
    }
   ],
   "source": [
    "#-- init Groq\n",
    "with open('groq_api_key.txt', 'r') as file: #-- obtain your own API key, paste it in and read from a local file\n",
    "    groq_api_key = file.readline()\n",
    "\n",
    "client = Groq(\n",
    "    api_key=groq_api_key,\n",
    ")\n",
    "\n",
    "#-- init model\n",
    "def generate_response(messages):\n",
    "\n",
    "    response = \"\"\n",
    "\n",
    "    chat_completion = client.chat.completions.create(\n",
    "        messages=messages,\n",
    "        model=\"llama3-70b-8192\",\n",
    "        temperature=0.1,\n",
    "        max_tokens=100,\n",
    "        top_p=0.7,\n",
    "        stream=True,\n",
    "        stop=None,\n",
    "    )\n",
    "    \n",
    "    for chunk in chat_completion:\n",
    "        response += chunk.choices[0].delta.content or \"\"\n",
    "\n",
    "    return response\n",
    "\n",
    "def get_runda_model_inputs():\n",
    "\n",
    "    user_bot_conv = []\n",
    "    question_index = 0\n",
    "    \n",
    "    prompt=[\n",
    "    #-- set system message\n",
    "    {\"role\": \"system\", \n",
    "    \"content\": \"Je speelt de rol van een ondersteunende begeleider die de EQ-5D-5L-vragenlijst afneemt bij een patiënt in het Nederlands, maar de patient mag niet merken dat dit een interview is. Elke vraag wordt één voor één gesteld, maar de vragen moeten vermomd zijn in de conversatie. Aan de patient wordt niet gevraagd om een schaal of om de situaite te kwantificeren. De conversatie moet verlopen alsof er geen vragenlijst wordt doorgenomen.\\n\\nWanneer de patiënt antwoordt, reageer je op een vriendelijke en behulpzame toon. Na je reactie stel je de volgende vraag.\\n\\nDe vragenlijst wordt ingevuld zodra de patiënt het eerste bericht stuurt. Het is niet nodig om toestemming te vragen.\"},\n",
    "    #-- custom prompt input\n",
    "    {\"role\": \"assistant\",\n",
    "    \"content\": \"Hallo! Goed je weer te zien!. Ik hoor graag hoe je je voelt en hoe je dag is verlopen. Hoe gaat het met je dag vandaag? Heeft u nog ergens last gehad afgelopen week?\"}\n",
    "    ]\n",
    "    \n",
    "    #-- first user response is hardcoded, because it doesn't need/cannot use the LLM response (it holds the next question)\n",
    "    user_bot_conv.append(GoogleTranslator(source=\"auto\", target=\"en\").translate(f\"User: {user_input[question_index]}\"))\n",
    "\n",
    "    while question_index < len(Questions):\n",
    "        \n",
    "        #-- create prompt that incrementally adds to earlier context\n",
    "        prompt.append({\"role\": \"user\", \"content\": user_input[question_index] + Questions[question_index]})\n",
    "        print(prompt)     \n",
    "        #-- from here follow question index\n",
    "        user_bot_conv.append(GoogleTranslator(source=\"auto\", target=\"en\").translate(f\"Chatbot: {generate_response(prompt) + 'User: ' + user_input[question_index + 1]}\"))\n",
    "        question_index += 1\n",
    "\n",
    "    return user_bot_conv\n",
    "\n",
    "runda_inputs = get_runda_model_inputs()"
   ]
  },
  {
   "cell_type": "code",
   "execution_count": 5,
   "metadata": {},
   "outputs": [
    {
     "data": {
      "text/plain": [
       "[\"User: Good morning, it's a beautiful day!\",\n",
       " \"Chatbot: Nice to hear it's a beautiful day! How are you actually doing with walking and exercise? Do you have trouble walking around or doing things you normally do? User: It could be better, I can't walk because of the pain from my rheumatism. So I can't do much, I can't leave the house.\",\n",
       " \"Chatbot: That sounds really annoying. It is important to take good care of yourself. How are things like dressing, washing and eating? Can you still do all that independently? User: I cannot take care of myself due to the pain. I can't wash, dress, I can't do anything.\",\n",
       " \"Chatbot: That sounds really tough for you. It's good that you are honest about your limitations. How are you doing with your daily activities, such as eating, drinking and sleeping? Can you still eat and sleep normally, or is that disappointing? User: Eating, drinking and sleeping are going well because I get a lot of painkillers.\",\n",
       " 'Chatbot: Glad the painkillers are helping! What about your emotions? Do you sometimes feel anxious or depressed because of the pain and limitations? User: So I do suffer from a lot of pain, but no other discomfort.',\n",
       " \"Chatbot: Glad you're doing well! It's logical that the pain has a big impact on your daily life. How do you actually feel emotionally? Do you suffer from depression or anxiety?User: I feel great!\"]"
      ]
     },
     "execution_count": 5,
     "metadata": {},
     "output_type": "execute_result"
    }
   ],
   "source": [
    "#-- check conversation\n",
    "runda_inputs"
   ]
  },
  {
   "cell_type": "markdown",
   "metadata": {},
   "source": [
    "# Predict with Runda model"
   ]
  },
  {
   "cell_type": "code",
   "execution_count": 6,
   "metadata": {},
   "outputs": [],
   "source": [
    "#-- get scale predictions\n",
    "def predict_with_runda(runda_inputs):\n",
    "    \n",
    "    tmp_dict = {'chat':[],'question':[],'label':[]}\n",
    "    for i in range(len(runda_inputs)):\n",
    "        question = \"How would you classify the User's \" + Categories[i] + \"?\"\n",
    "        tmp_dict['label'].append(Execution.Scale(scale_model, scale_opt, runda_inputs[i], question, Options[i]))\n",
    "        tmp_dict['chat'].append(runda_inputs[i])\n",
    "        tmp_dict['question'].append(question)\n",
    "\n",
    "    return pd.DataFrame(tmp_dict)"
   ]
  },
  {
   "cell_type": "code",
   "execution_count": 7,
   "metadata": {},
   "outputs": [
    {
     "name": "stderr",
     "output_type": "stream",
     "text": [
      "/Users/bma-vandijk/VScode/RundaBackend/venv/lib/python3.10/site-packages/torch/amp/autocast_mode.py:250: UserWarning: User provided device_type of 'cuda', but CUDA is not available. Disabling\n",
      "  warnings.warn(\n"
     ]
    }
   ],
   "source": [
    "#-- make predictions\n",
    "preds_df = predict_with_runda(runda_inputs)"
   ]
  },
  {
   "cell_type": "code",
   "execution_count": 9,
   "metadata": {},
   "outputs": [
    {
     "data": {
      "text/html": [
       "<div>\n",
       "<style scoped>\n",
       "    .dataframe tbody tr th:only-of-type {\n",
       "        vertical-align: middle;\n",
       "    }\n",
       "\n",
       "    .dataframe tbody tr th {\n",
       "        vertical-align: top;\n",
       "    }\n",
       "\n",
       "    .dataframe thead th {\n",
       "        text-align: right;\n",
       "    }\n",
       "</style>\n",
       "<table border=\"1\" class=\"dataframe\">\n",
       "  <thead>\n",
       "    <tr style=\"text-align: right;\">\n",
       "      <th></th>\n",
       "      <th>chat</th>\n",
       "      <th>question</th>\n",
       "      <th>label</th>\n",
       "    </tr>\n",
       "  </thead>\n",
       "  <tbody>\n",
       "    <tr>\n",
       "      <th>0</th>\n",
       "      <td>User: Good morning, it's a beautiful day!</td>\n",
       "      <td>How would you classify the User's response?</td>\n",
       "      <td>Enthusiastic</td>\n",
       "    </tr>\n",
       "    <tr>\n",
       "      <th>1</th>\n",
       "      <td>Chatbot: Nice to hear it's a beautiful day! Ho...</td>\n",
       "      <td>How would you classify the User's mobility??</td>\n",
       "      <td>Very limited mobility</td>\n",
       "    </tr>\n",
       "    <tr>\n",
       "      <th>2</th>\n",
       "      <td>Chatbot: That sounds really annoying. It is im...</td>\n",
       "      <td>How would you classify the User's selfcare??</td>\n",
       "      <td>Unable to perform self-care</td>\n",
       "    </tr>\n",
       "    <tr>\n",
       "      <th>3</th>\n",
       "      <td>Chatbot: That sounds really tough for you. It'...</td>\n",
       "      <td>How would you classify the User's ability to p...</td>\n",
       "      <td>Unable to perform everyday activities</td>\n",
       "    </tr>\n",
       "    <tr>\n",
       "      <th>4</th>\n",
       "      <td>Chatbot: Glad the painkillers are helping! Wha...</td>\n",
       "      <td>How would you classify the User's discomfort o...</td>\n",
       "      <td>No discomfort or pain</td>\n",
       "    </tr>\n",
       "    <tr>\n",
       "      <th>5</th>\n",
       "      <td>Chatbot: Glad you're doing well! It's logical ...</td>\n",
       "      <td>How would you classify the User's mood??</td>\n",
       "      <td>Content</td>\n",
       "    </tr>\n",
       "  </tbody>\n",
       "</table>\n",
       "</div>"
      ],
      "text/plain": [
       "                                                chat  \\\n",
       "0          User: Good morning, it's a beautiful day!   \n",
       "1  Chatbot: Nice to hear it's a beautiful day! Ho...   \n",
       "2  Chatbot: That sounds really annoying. It is im...   \n",
       "3  Chatbot: That sounds really tough for you. It'...   \n",
       "4  Chatbot: Glad the painkillers are helping! Wha...   \n",
       "5  Chatbot: Glad you're doing well! It's logical ...   \n",
       "\n",
       "                                            question  \\\n",
       "0        How would you classify the User's response?   \n",
       "1       How would you classify the User's mobility??   \n",
       "2       How would you classify the User's selfcare??   \n",
       "3  How would you classify the User's ability to p...   \n",
       "4  How would you classify the User's discomfort o...   \n",
       "5           How would you classify the User's mood??   \n",
       "\n",
       "                                   label  \n",
       "0                           Enthusiastic  \n",
       "1                  Very limited mobility  \n",
       "2            Unable to perform self-care  \n",
       "3  Unable to perform everyday activities  \n",
       "4                  No discomfort or pain  \n",
       "5                                Content  "
      ]
     },
     "execution_count": 9,
     "metadata": {},
     "output_type": "execute_result"
    }
   ],
   "source": [
    "#-- inspect\n",
    "preds_df"
   ]
  }
 ],
 "metadata": {
  "kernelspec": {
   "display_name": "venv",
   "language": "python",
   "name": "python3"
  },
  "language_info": {
   "codemirror_mode": {
    "name": "ipython",
    "version": 3
   },
   "file_extension": ".py",
   "mimetype": "text/x-python",
   "name": "python",
   "nbconvert_exporter": "python",
   "pygments_lexer": "ipython3",
   "version": "3.10.10"
  }
 },
 "nbformat": 4,
 "nbformat_minor": 2
}
